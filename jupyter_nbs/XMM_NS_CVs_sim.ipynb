{
 "cells": [
  {
   "cell_type": "code",
   "execution_count": 1,
   "metadata": {
    "ExecuteTime": {
     "end_time": "2023-11-06T23:27:55.529778Z",
     "start_time": "2023-11-06T23:27:55.259745Z"
    }
   },
   "outputs": [],
   "source": [
    "%load_ext pycodestyle_magic\n",
    "%flake8_on\n",
    "%load_ext autoreload"
   ]
  },
  {
   "cell_type": "code",
   "execution_count": 2,
   "metadata": {
    "ExecuteTime": {
     "end_time": "2023-11-06T23:27:55.794948Z",
     "start_time": "2023-11-06T23:27:55.774585Z"
    }
   },
   "outputs": [],
   "source": [
    "%autoreload 2"
   ]
  },
  {
   "cell_type": "code",
   "execution_count": 21,
   "metadata": {
    "ExecuteTime": {
     "end_time": "2023-11-07T00:47:20.137014Z",
     "start_time": "2023-11-07T00:47:16.666898Z"
    }
   },
   "outputs": [
    {
     "name": "stderr",
     "output_type": "stream",
     "text": [
      "58:5: F841 local variable 'spectrum' is assigned to but never used\n",
      "72:5: F841 local variable 'spectrum' is assigned to but never used\n",
      "79:5: E265 block comment should start with '# '\n",
      "80:5: E265 block comment should start with '# '\n",
      "81:5: E265 block comment should start with '# '\n",
      "85:1: W293 blank line contains whitespace\n",
      "97:80: E501 line too long (80 > 79 characters)\n",
      "123:1: E302 expected 2 blank lines, found 1\n",
      "224:1: W293 blank line contains whitespace\n"
     ]
    }
   ],
   "source": [
    "\"\"\"Program to simulate the X-ray spectra and color of NS and CV spectra.\n",
    "\n",
    "Functions needed:\n",
    "1. Choose a random source and collect the corresponding response and background\n",
    "2. A random distribution of NH and power-law for the NS spectra.\n",
    "3. Random distribution of NH, power-law and Fe-line eq width for CV\n",
    "4. Fake-it simulations.\n",
    "Analysis should be done both for PN and MOS\n",
    "\"\"\"\n",
    "\n",
    "\n",
    "import copy\n",
    "import glob2\n",
    "import os\n",
    "import xspec\n",
    "import numpy as np\n",
    "from astropy.io import fits\n",
    "\n",
    "\n",
    "def get_resp(src_file, obs_folder='./', rmf_folder='./'):\n",
    "    \"\"\"Get background and responses for the given source file.\n",
    "\n",
    "    Inputs:\n",
    "    src_file = Combined source file\n",
    "    obs_folder - Folder containing individual observations of the source\n",
    "    \"\"\"\n",
    "    spectra_header = fits.open(src_file)[1].header\n",
    "    bg_file = obs_folder + spectra_header['BACKFILE']\n",
    "    arf_file = obs_folder + spectra_header['ANCRFILE']\n",
    "    resp_file = rmf_folder + spectra_header['RESPFILE']\n",
    "    exptime = spectra_header['EXPOSURE']\n",
    "    file_list = [bg_file, arf_file, resp_file]\n",
    "    for i, file in enumerate(file_list):\n",
    "        if file.split('/')[-1] == 'None':\n",
    "            file_list[i] = ''\n",
    "    return file_list[0], file_list[1], file_list[2], exptime\n",
    "\n",
    "\n",
    "def sim_msp(resp_file, arf_file, bg_file, exp_s, sim_msp_name, nh_val,\n",
    "            gamma_val, unabs_lx_val):\n",
    "    \"\"\"Simulate the MSP spectra with the given values.\"\"\"\n",
    "    msp_settings = xspec.FakeitSettings(\n",
    "        response=resp_file, arf=arf_file, background=bg_file, exposure=exp_s,\n",
    "        fileName=sim_msp_name)\n",
    "    msp_model = xspec.Model('tbabs*pegpwrlw')\n",
    "    unabs_flux = unabs_lx_val/(7.65757E+45)\n",
    "    msp_model.setPars({1: nh_val/1.0E+22, 2: gamma_val, 3: 2, 4: 10,\n",
    "                       5: unabs_flux/1.0E-12})\n",
    "    xspec.AllData.fakeit(1, msp_settings)\n",
    "    xspec.AllData.clear()\n",
    "    xspec.AllModels.clear()\n",
    "\n",
    "\n",
    "def sim_msp_from_src(src_file, sim_msp_name, nh_val, gamma_val,\n",
    "                     unabs_lx_val):\n",
    "    \"\"\"Simulate MSP spectra from a source spectra.\"\"\"\n",
    "    msp_settings = xspec.FakeitSettings(fileName=sim_msp_name)\n",
    "    spectrum = xspec.Spectrum(src_file)\n",
    "    msp_model = xspec.Model('tbabs*pegpwrlw')\n",
    "    unabs_flux = unabs_lx_val/(7.65757E+45)\n",
    "    msp_model.setPars({1: nh_val/1.0E+22, 2: gamma_val, 3: 2, 4: 10,\n",
    "                       5: unabs_flux/1.0E-12})\n",
    "    xspec.AllData.fakeit(1, msp_settings)\n",
    "    xspec.AllData.clear()\n",
    "    xspec.AllModels.clear()\n",
    "\n",
    "\n",
    "def sim_cv_from_src(src_file, sim_msp_name, nh_val, temp_val, unabs_lx_val,\n",
    "                    ew_64, ew_67, ew_70):\n",
    "    \"\"\"Simulate apec spectra\"\"\"\n",
    "    ip_settings = xspec.FakeitSettings(fileName=sim_msp_name)\n",
    "    spectrum = xspec.Spectrum(src_file)\n",
    "    xspec.Xset.addModelString(\"APECNOLINES\", \"no\")\n",
    "    xspec.Xset.abund = 'wilm'\n",
    "    ip_model = xspec.Model(\"tbabs*cflux*apec\")\n",
    "    unabs_flux = unabs_lx_val/(7.65757E+45)\n",
    "    ip_model.setPars({1: nh_val/1.0E+22, 2: 2.0, 3: 10.0,\n",
    "                      4: np.log10(unabs_flux), 5: temp_val, 6: 3.0})\n",
    "    #xspec.Plot.device = \"/xw\"\n",
    "    #xspec.Plot(\"model\")\n",
    "    #xspec.AllModels.show()\n",
    "    xspec.AllData.fakeit(1, ip_settings)\n",
    "    xspec.AllData.clear()\n",
    "    xspec.AllModels.clear()\n",
    "    \n",
    "\n",
    "'''\n",
    "def sim_cv_from_src(src_file, sim_msp_name, nh_val, temp_val, unabs_lx_val,\n",
    "                    ew_64, ew_67, ew_70):\n",
    "    \"\"\"Simulate spectra of CVs.\"\"\"\n",
    "    ip_settings = xspec.FakeitSettings(fileName=sim_msp_name)\n",
    "    spectrum = xspec.Spectrum(src_file)\n",
    "    xspec.Xset.addModelString(\"APECNOLINES\", \"no\")\n",
    "    xspec.Xset.abund = 'wilm'\n",
    "    ip_model = xspec.Model(\"tbabs*(apec+gaussian+gaussian+gaussian)\")\n",
    "    unabs_flux = unabs_lx_val/(7.65757E+45)\n",
    "    ip_model.setPars({1: nh_val/1.0E+22, 2: temp_val, 6: 6.4, 8: 1.0E-4, 9: 6.7,\n",
    "                      11: 1.0E-4, 12: 7.0, 14: 1.0E-4})\n",
    "    xspec.AllModels.eqwidth(3, rangeFrac=0.0)\n",
    "    test_ew_64 = spectrum.eqwidth[0]\n",
    "    xspec.AllModels.eqwidth(4, rangeFrac=0.0)\n",
    "    test_ew_67 = spectrum.eqwidth[0]\n",
    "    xspec.AllModels.eqwidth(5, rangeFrac=0.0)\n",
    "    test_ew_70 = spectrum.eqwidth[0]\n",
    "    norm_64 = ew_64/test_ew_64*1.0E-4*2\n",
    "    norm_67 = ew_67/test_ew_67*1.0E-4*2\n",
    "    norm_70 = ew_70/test_ew_70*1.0E-4*2\n",
    "    xspec.AllModels.clear()\n",
    "    ip_model = xspec.Model(\"tbabs*cflux*(apec+gaussian+gaussian+gaussian)\")\n",
    "    xspec.Xset.addModelString(\"APECNOLINES\", \"yes\")\n",
    "    ip_model.setPars({1: nh_val/1.0E+22, 2: 2.0, 3: 10.0,\n",
    "                      4: np.log10(unabs_flux), 5: temp_val, 9: 6.4,\n",
    "                      11: norm_64, 12: 6.7, 14: norm_67, 15: 7.0, 17: norm_70})\n",
    "\n",
    "    xspec.Plot.device = \"/xw\"\n",
    "    xspec.Plot(\"model\")\n",
    "    xspec.AllModels.show()\n",
    "    xspec.AllData.fakeit(1, ip_settings)\n",
    "    xspec.AllData.clear()\n",
    "    xspec.AllModels.clear()\n",
    "'''\n",
    "\n",
    "def msp_simulations(num_msps, nh_vals, gamma_vals, unabs_lx_vals,\n",
    "                    resp_files=None, arf_files=None, bg_files=None,\n",
    "                    obs_folder=None, rmf_folder=None, exp_times=None,\n",
    "                    sim_msp_folder='./'):\n",
    "    \"\"\"Simulate MSPs.\"\"\"\n",
    "    if resp_files is None:\n",
    "        if obs_folder is None or rmf_folder is None:\n",
    "            raise ValueError('Either give the response files explicitly or' +\n",
    "                             'give the observation and rmf folders from which'\n",
    "                             + 'they should be sampled')\n",
    "        src_files = glob2.glob(obs_folder + '*_src_grp.ds')\n",
    "        src_files_forsim = np.random.choice(src_files, size=num_msps)\n",
    "\n",
    "    for i, msp_num in enumerate(num_msps):\n",
    "        if resp_files is None:\n",
    "            bg_file, arf_file, resp_file, exptime = get_resp(\n",
    "                src_files_forsim[i], obs_folder=obs_folder,\n",
    "                rmf_folder=rmf_folder)\n",
    "        else:\n",
    "            bg_file = bg_files[i]\n",
    "            arf_file = arf_files[i]\n",
    "            resp_file = resp_files[i]\n",
    "            exptime = exp_times[i]\n",
    "\n",
    "        sim_msp(resp_file, arf_file, bg_file, exptime,\n",
    "                sim_msp_folder+'msp_'+str(i)+'.fak', nh_vals[i], gamma_vals[i],\n",
    "                unabs_lx_vals[i])\n",
    "        if i % 1000 == 0:\n",
    "            print('Finished ' + str(i) + 'simulations')\n",
    "\n",
    "\n",
    "def get_xmm_src_files(src_folder):\n",
    "    \"\"\"Get PN and MOS src files.\"\"\"\n",
    "    pn_src_files = glob2.glob(src_folder + '*_PN_*src_grp1*cts.ds')\n",
    "    mos_src_files = glob2.glob(src_folder + '*_MOS_*src_grp1*cts.ds')\n",
    "    # pn_mos_png_files = glob2.glob(src_folder + '*_PN_MOS_combined_src.png')\n",
    "    common_files_pn = []\n",
    "    common_files_mos = []\n",
    "    only_pn_files = copy.copy(pn_src_files)\n",
    "    only_mos_files = copy.copy(mos_src_files)\n",
    "    for pn_file in pn_src_files:\n",
    "        pn_src_num = pn_file.split('/')[-1].split('_')[0]\n",
    "        if os.path.isfile(src_folder + pn_src_num +\n",
    "                          '_MOS_combined_src_grp.ds'):\n",
    "            mos_file = glob2.glob(src_folder + pn_src_num +\n",
    "                                  '_MOS_combined_src_grp1*cts.ds')[0]\n",
    "            common_files_pn.append(pn_file)\n",
    "            common_files_mos.append(mos_file)\n",
    "            only_pn_files.remove(pn_file)\n",
    "            only_mos_files.remove(mos_file)\n",
    "    return common_files_pn, common_files_mos, only_pn_files, only_mos_files\n",
    "\n",
    "\n",
    "def get_src_nums(src_file_list):\n",
    "    src_nums = []\n",
    "    for src_file in src_file_list:\n",
    "        src_num = src_file.split('/')[-1].split('_')[0]\n",
    "        src_nums.append(src_num)\n",
    "    return src_nums\n",
    "\n",
    "\n",
    "def msp_sims_from_src(num_msps, nh_vals, gamma_vals, unabs_lx_vals, src_folder,\n",
    "                      sim_msp_folder='./', file_prefix='msp_'):\n",
    "    \"\"\"Simulate MSPs rom source files.\"\"\"\n",
    "    (common_files_pn, common_files_mos, only_pn_files,\n",
    "     only_mos_files) = get_xmm_src_files(src_folder)\n",
    "    src_files = common_files_pn + only_pn_files + only_mos_files\n",
    "    src_args_forsim = np.random.choice(\n",
    "        np.arange(len(src_files)), size=num_msps)\n",
    "    for i in range(num_msps):\n",
    "        if src_args_forsim[i] < len(common_files_pn) + len(only_pn_files):\n",
    "            sim_msp_from_src(\n",
    "                src_files[src_args_forsim[i]],\n",
    "                sim_msp_folder + file_prefix + str(i) + '_PN.fak',\n",
    "                nh_vals[i], gamma_vals[i], unabs_lx_vals[i])\n",
    "            if src_args_forsim[i] < len(common_files_pn):\n",
    "                sim_msp_from_src(\n",
    "                    common_files_mos[src_args_forsim[i]],\n",
    "                    sim_msp_folder + file_prefix + str(i) + '_MOS.fak',\n",
    "                    nh_vals[i], gamma_vals[i], unabs_lx_vals[i])\n",
    "        else:\n",
    "            sim_msp_from_src(\n",
    "                src_files[src_args_forsim[i]],\n",
    "                sim_msp_folder + file_prefix + str(i) + '_MOS.fak',\n",
    "                nh_vals[i], gamma_vals[i], unabs_lx_vals[i])\n",
    "\n",
    "        if i % 1000 == 0:\n",
    "            print('Finished ' + str(i) + ' simulations')\n",
    "\n",
    "\n",
    "def cvs_sims_from_src(num_cvs, nh_vals, temp_vals, unabs_lx_vals, ew_64_vals,\n",
    "                      ew_67_vals, ew_70_vals, src_folder, sim_cv_folder='./',\n",
    "                      file_prefix='cv_'):\n",
    "    \"\"\"\"Simulate MSPs from source files.\"\"\"\n",
    "    (common_files_pn, common_files_mos, only_pn_files,\n",
    "     only_mos_files) = get_xmm_src_files(src_folder)\n",
    "    src_files = common_files_pn + only_pn_files + only_mos_files\n",
    "    src_args_forsim = np.random.choice(\n",
    "        np.arange(len(src_files)), size=num_cvs)\n",
    "    for i in range(num_cvs):\n",
    "        if src_args_forsim[i] < len(common_files_pn) + len(only_pn_files):\n",
    "            \n",
    "            sim_cv_from_src(\n",
    "                src_files[src_args_forsim[i]],\n",
    "                sim_cv_folder + file_prefix + str(i) + '_PN.fak', nh_vals[i],\n",
    "                temp_vals[i], unabs_lx_vals[i], ew_64_vals[i], ew_67_vals[i],\n",
    "                ew_70_vals[i])\n",
    "            if src_args_forsim[i] < len(common_files_pn):\n",
    "                sim_cv_from_src(\n",
    "                    common_files_mos[src_args_forsim[i]],\n",
    "                    sim_cv_folder + file_prefix + str(i) + '_MOS.fak',\n",
    "                    nh_vals[i], temp_vals[i], unabs_lx_vals[i], ew_64_vals[i],\n",
    "                    ew_67_vals[i], ew_70_vals[i])\n",
    "        else:\n",
    "            sim_cv_from_src(\n",
    "                src_files[src_args_forsim[i]],\n",
    "                sim_cv_folder + file_prefix + str(i) + '_MOS.fak', nh_vals[i],\n",
    "                temp_vals[i], unabs_lx_vals[i], ew_64_vals[i], ew_67_vals[i],\n",
    "                ew_70_vals[i])\n",
    "\n",
    "        if i % 1000 == 0:\n",
    "            print('Finished ' + str(i) + ' simulations')\n",
    "\n",
    "\n",
    "def get_msp_param_vals(num_msps, nh_abs_type):\n",
    "    \"\"\"Get parameter values for the MSP simulations.\"\"\"\n",
    "    if nh_abs_type == 'high':\n",
    "        nh_vals = np.random.uniform(22.7, 23.7, num_msps)\n",
    "    elif nh_abs_type == 'mid':\n",
    "        nh_vals = np.random.uniform(22.0, 22.7, num_msps)\n",
    "    elif nh_abs_type == 'low':\n",
    "        nh_vals = np.random.uniform(21.0, 22.0, num_msps)\n",
    "    else:\n",
    "        print(\"'nh_abs_type' should be 'high', 'mid', or 'low'.\")\n",
    "    nh_vals = 10**nh_vals\n",
    "    gamma_vals = np.random.uniform(1.0, 2.0, num_msps)\n",
    "    lx_vals = np.random.uniform(31.0, 34.0, num_msps)\n",
    "    lx_vals = 10**lx_vals\n",
    "    return nh_vals, gamma_vals, lx_vals\n",
    "\n",
    "\n",
    "def get_cv_param_vals(num_cvs, nh_abs_type, cv_type='IP'):\n",
    "    \"\"\"\"Get parameter values for IP simulations.\"\"\"\n",
    "    if nh_abs_type == 'high':\n",
    "        nh_vals = np.random.uniform(22.7, 23.7, num_cvs)\n",
    "    elif nh_abs_type == 'mid':\n",
    "        nh_vals = np.random.uniform(22.0, 22.7, num_cvs)\n",
    "    elif nh_abs_type == 'low':\n",
    "        nh_vals = np.random.uniform(21.0, 22.0, num_cvs)\n",
    "    else:\n",
    "        print(\"'nh_abs_type' should be 'high', 'mid', or 'low'.\")\n",
    "    nh_vals = 10**nh_vals\n",
    "    lx_vals = np.random.uniform(31.0, 34.0, num_cvs)\n",
    "    lx_vals = 10**lx_vals\n",
    "    if cv_type == 'IP':\n",
    "        temp_vals = np.random.normal(34.0, 4.54, num_cvs)\n",
    "        ew_64_vals = np.random.normal(0.115, 0.00912, num_cvs)\n",
    "        ew_67_vals = np.random.normal(0.107, 0.016, num_cvs)\n",
    "        ew_70_vals = np.random.normal(0.08, 0.00681, num_cvs)\n",
    "    elif cv_type == 'SS':\n",
    "        temp_vals = np.random.normal(27.2, 20.8, num_cvs)\n",
    "        ew_64_vals = np.random.normal(0.280, 0.090, num_cvs)\n",
    "        ew_67_vals = np.random.normal(0.241, 0.0783, num_cvs)\n",
    "        ew_70_vals = np.random.normal(0.091, 0.0201, num_cvs)\n",
    "    else:\n",
    "        print('CV types can only be IP or SS')\n",
    "    return nh_vals, temp_vals, lx_vals, ew_64_vals, ew_67_vals, ew_70_vals\n"
   ]
  },
  {
   "cell_type": "code",
   "execution_count": 4,
   "metadata": {
    "ExecuteTime": {
     "end_time": "2023-11-06T23:28:01.766702Z",
     "start_time": "2023-11-06T23:28:01.330227Z"
    }
   },
   "outputs": [],
   "source": [
    "ss2_param_vals = get_cv_param_vals(num_cvs=10000, nh_abs_type='high',\n",
    "                                   cv_type='SS')"
   ]
  },
  {
   "cell_type": "code",
   "execution_count": 14,
   "metadata": {
    "ExecuteTime": {
     "end_time": "2023-11-07T00:45:39.470745Z",
     "start_time": "2023-11-07T00:45:37.836451Z"
    }
   },
   "outputs": [],
   "source": [
    "nh_vals, temp_vals, lx_vals, ew_64_vals, ew_67_vals, ew_70_vals = ss2_param_vals"
   ]
  },
  {
   "cell_type": "code",
   "execution_count": 23,
   "metadata": {
    "ExecuteTime": {
     "end_time": "2023-11-07T00:47:29.685791Z",
     "start_time": "2023-11-07T00:47:28.829512Z"
    }
   },
   "outputs": [],
   "source": [
    "os.chdir('../data/')"
   ]
  },
  {
   "cell_type": "code",
   "execution_count": 24,
   "metadata": {
    "ExecuteTime": {
     "end_time": "2023-11-07T00:47:33.827780Z",
     "start_time": "2023-11-07T00:47:32.016077Z"
    }
   },
   "outputs": [
    {
     "data": {
      "text/plain": [
       "'/Users/pavanrh/Documents/UofA_projects/GalacticBulge_Xrayclassify/data'"
      ]
     },
     "execution_count": 24,
     "metadata": {},
     "output_type": "execute_result"
    }
   ],
   "source": [
    "os.getcwd()"
   ]
  },
  {
   "cell_type": "code",
   "execution_count": 8,
   "metadata": {
    "ExecuteTime": {
     "end_time": "2023-11-06T23:28:32.716782Z",
     "start_time": "2023-11-06T23:28:30.568011Z"
    }
   },
   "outputs": [],
   "source": [
    "import matplotlib.pyplot as plt"
   ]
  },
  {
   "cell_type": "code",
   "execution_count": 16,
   "metadata": {
    "ExecuteTime": {
     "end_time": "2023-11-07T00:45:50.204655Z",
     "start_time": "2023-11-07T00:45:49.227970Z"
    }
   },
   "outputs": [],
   "source": [
    "temp_vals[temp_vals < 3] = 3"
   ]
  },
  {
   "cell_type": "code",
   "execution_count": 19,
   "metadata": {
    "ExecuteTime": {
     "end_time": "2023-11-07T00:46:10.211346Z",
     "start_time": "2023-11-07T00:46:09.177532Z"
    }
   },
   "outputs": [],
   "source": [
    "ew_70_vals[ew_70_vals < 0] = 0"
   ]
  },
  {
   "cell_type": "code",
   "execution_count": 20,
   "metadata": {
    "ExecuteTime": {
     "end_time": "2023-11-07T00:46:14.497541Z",
     "start_time": "2023-11-07T00:46:12.061814Z"
    }
   },
   "outputs": [
    {
     "data": {
      "text/plain": [
       "(array([2.636e+03, 1.916e+03, 2.109e+03, 1.643e+03, 9.770e+02, 5.040e+02,\n",
       "        1.650e+02, 3.900e+01, 1.000e+01, 1.000e+00]),\n",
       " array([  3.        ,  14.05771179,  25.11542359,  36.17313538,\n",
       "         47.23084717,  58.28855897,  69.34627076,  80.40398255,\n",
       "         91.46169435, 102.51940614, 113.57711793]),\n",
       " <BarContainer object of 10 artists>)"
      ]
     },
     "execution_count": 20,
     "metadata": {},
     "output_type": "execute_result"
    },
    {
     "data": {
      "image/png": "[encoded data removed]",
      "text/plain": [
       "<Figure size 432x288 with 1 Axes>"
      ]
     },
     "metadata": {
      "needs_background": "light"
     },
     "output_type": "display_data"
    }
   ],
   "source": [
    "plt.hist(temp_vals)"
   ]
  },
  {
   "cell_type": "code",
   "execution_count": 25,
   "metadata": {
    "ExecuteTime": {
     "end_time": "2023-11-07T02:03:31.202689Z",
     "start_time": "2023-11-07T00:50:22.197865Z"
    }
   },
   "outputs": [
    {
     "name": "stdout",
     "output_type": "stream",
     "text": [
      "Finished 0 simulations\n",
      "Finished 1000 simulations\n",
      "Finished 2000 simulations\n",
      "Finished 3000 simulations\n",
      "Finished 4000 simulations\n",
      "Finished 5000 simulations\n",
      "Finished 6000 simulations\n",
      "Finished 7000 simulations\n",
      "Finished 8000 simulations\n",
      "Finished 9000 simulations\n"
     ]
    }
   ],
   "source": [
    "cvs_sims_from_src(10000, nh_vals, temp_vals, lx_vals, ew_64_vals,\n",
    "                  ew_67_vals, ew_70_vals, 'Galactic_highNH_combinedXMM/',\n",
    "                  sim_cv_folder='./sim_apec_highnh_ss/', file_prefix='ss_')"
   ]
  },
  {
   "cell_type": "code",
   "execution_count": 93,
   "metadata": {
    "ExecuteTime": {
     "end_time": "2023-10-30T21:27:23.726486Z",
     "start_time": "2023-10-30T21:27:23.275922Z"
    }
   },
   "outputs": [
    {
     "data": {
      "text/plain": [
       "0.07219417018249723"
      ]
     },
     "execution_count": 93,
     "metadata": {},
     "output_type": "execute_result"
    }
   ],
   "source": [
    "ew_70_vals[1]"
   ]
  },
  {
   "cell_type": "code",
   "execution_count": 95,
   "metadata": {
    "ExecuteTime": {
     "end_time": "2023-10-31T03:29:12.129658Z",
     "start_time": "2023-10-31T03:29:11.501655Z"
    }
   },
   "outputs": [
    {
     "data": {
      "text/plain": [
       "array([1.02534804e+31, 3.10186647e+32, 5.95394977e+32, 5.19084320e+31,\n",
       "       1.81635802e+33, 9.45030018e+31, 1.13262838e+31, 2.21416128e+32,\n",
       "       6.31557121e+31, 1.01550721e+32, 3.86252139e+31, 8.36949315e+32,\n",
       "       1.93971147e+31, 6.84566740e+33, 1.52140126e+31, 1.02648963e+32,\n",
       "       1.76533187e+32, 1.18106069e+32, 1.51154328e+33, 8.16333488e+31])"
      ]
     },
     "execution_count": 95,
     "metadata": {},
     "output_type": "execute_result"
    }
   ],
   "source": [
    "lx_vals[:20]"
   ]
  },
  {
   "cell_type": "code",
   "execution_count": 25,
   "metadata": {
    "ExecuteTime": {
     "end_time": "2023-10-30T05:19:14.683179Z",
     "start_time": "2023-10-30T05:19:14.383358Z"
    }
   },
   "outputs": [
    {
     "data": {
      "text/plain": [
       "array([9.24266132e+22, 4.74292175e+23, 6.58610551e+22, 3.39991463e+23,\n",
       "       7.23386416e+22, 1.58053288e+23, 2.65934056e+23, 3.51241101e+23,\n",
       "       4.89569701e+23, 8.76156497e+22])"
      ]
     },
     "execution_count": 25,
     "metadata": {},
     "output_type": "execute_result"
    }
   ],
   "source": [
    "nh_vals[:10]"
   ]
  },
  {
   "cell_type": "code",
   "execution_count": 103,
   "metadata": {
    "ExecuteTime": {
     "end_time": "2023-10-31T18:23:20.921317Z",
     "start_time": "2023-10-31T18:23:20.601936Z"
    }
   },
   "outputs": [],
   "source": [
    "xspec.AllData.clear()"
   ]
  },
  {
   "cell_type": "code",
   "execution_count": 150,
   "metadata": {
    "ExecuteTime": {
     "end_time": "2023-11-03T23:31:06.805337Z",
     "start_time": "2023-11-03T23:31:06.299440Z"
    }
   },
   "outputs": [],
   "source": [
    "ss_param_vals_refined = np.column_stack(\n",
    "    [nh_vals, temp_vals, lx_vals, ew_64_vals, ew_67_vals, ew_70_vals])"
   ]
  },
  {
   "cell_type": "code",
   "execution_count": 172,
   "metadata": {
    "ExecuteTime": {
     "end_time": "2023-11-05T01:56:16.561762Z",
     "start_time": "2023-11-05T01:56:16.167647Z"
    }
   },
   "outputs": [],
   "source": [
    "np.savetxt('sim_apec_highnh/IPs_param_values.txt', ips_param_vals)"
   ]
  },
  {
   "cell_type": "code",
   "execution_count": 106,
   "metadata": {
    "ExecuteTime": {
     "end_time": "2023-10-31T18:25:40.619438Z",
     "start_time": "2023-10-31T18:25:39.996642Z"
    }
   },
   "outputs": [
    {
     "data": {
      "text/plain": [
       "array([5.70073510e+22, 6.85234244e+22, 3.69795545e+23, 1.60892986e+23,\n",
       "       2.49112443e+23])"
      ]
     },
     "execution_count": 106,
     "metadata": {},
     "output_type": "execute_result"
    }
   ],
   "source": [
    "nh_vals[:5]"
   ]
  },
  {
   "cell_type": "code",
   "execution_count": 107,
   "metadata": {
    "ExecuteTime": {
     "end_time": "2023-10-31T18:26:01.019982Z",
     "start_time": "2023-10-31T18:26:00.423185Z"
    }
   },
   "outputs": [
    {
     "data": {
      "text/plain": [
       "array([1.02534804e+31, 3.10186647e+32, 5.95394977e+32, 5.19084320e+31,\n",
       "       1.81635802e+33])"
      ]
     },
     "execution_count": 107,
     "metadata": {},
     "output_type": "execute_result"
    }
   ],
   "source": [
    "lx_vals[:5]"
   ]
  },
  {
   "cell_type": "code",
   "execution_count": 108,
   "metadata": {
    "ExecuteTime": {
     "end_time": "2023-10-31T18:26:58.765989Z",
     "start_time": "2023-10-31T18:26:57.146876Z"
    }
   },
   "outputs": [
    {
     "data": {
      "text/plain": [
       "array([27.74572699, 27.78401953, 29.14309398, 32.61770821, 36.09908935])"
      ]
     },
     "execution_count": 108,
     "metadata": {},
     "output_type": "execute_result"
    }
   ],
   "source": [
    "temp_vals[:5]"
   ]
  },
  {
   "cell_type": "code",
   "execution_count": 109,
   "metadata": {
    "ExecuteTime": {
     "end_time": "2023-10-31T18:41:08.146010Z",
     "start_time": "2023-10-31T18:41:07.722890Z"
    }
   },
   "outputs": [
    {
     "data": {
      "text/plain": [
       "array([0.11512985, 0.12661786, 0.10871165, 0.11908214, 0.12300042])"
      ]
     },
     "execution_count": 109,
     "metadata": {},
     "output_type": "execute_result"
    }
   ],
   "source": [
    "ew_64_vals[:5]"
   ]
  },
  {
   "cell_type": "code",
   "execution_count": 110,
   "metadata": {
    "ExecuteTime": {
     "end_time": "2023-10-31T18:41:19.314914Z",
     "start_time": "2023-10-31T18:41:19.054454Z"
    }
   },
   "outputs": [
    {
     "data": {
      "text/plain": [
       "array([0.07473885, 0.09738611, 0.09253189, 0.11387557, 0.11407345])"
      ]
     },
     "execution_count": 110,
     "metadata": {},
     "output_type": "execute_result"
    }
   ],
   "source": [
    "ew_67_vals[:5]"
   ]
  },
  {
   "cell_type": "code",
   "execution_count": 111,
   "metadata": {
    "ExecuteTime": {
     "end_time": "2023-10-31T18:41:26.800906Z",
     "start_time": "2023-10-31T18:41:26.524161Z"
    }
   },
   "outputs": [
    {
     "data": {
      "text/plain": [
       "array([0.08251298, 0.07219417, 0.08580137, 0.08617561, 0.09438578])"
      ]
     },
     "execution_count": 111,
     "metadata": {},
     "output_type": "execute_result"
    }
   ],
   "source": [
    "ew_70_vals[:5]"
   ]
  },
  {
   "cell_type": "code",
   "execution_count": 128,
   "metadata": {
    "ExecuteTime": {
     "end_time": "2023-10-31T22:59:58.566128Z",
     "start_time": "2023-10-31T22:59:58.354451Z"
    }
   },
   "outputs": [
    {
     "data": {
      "text/plain": [
       "array([5.70073510e+22, 6.85234244e+22, 3.69795545e+23, ...,\n",
       "       4.84049412e+23, 4.06220533e+23, 3.11004953e+23])"
      ]
     },
     "execution_count": 128,
     "metadata": {},
     "output_type": "execute_result"
    }
   ],
   "source": [
    "ip_param_vals[0]"
   ]
  },
  {
   "cell_type": "code",
   "execution_count": null,
   "metadata": {},
   "outputs": [],
   "source": []
  }
 ],
 "metadata": {
  "kernelspec": {
   "display_name": "Python 3",
   "language": "python",
   "name": "python3"
  },
  "language_info": {
   "codemirror_mode": {
    "name": "ipython",
    "version": 3
   },
   "file_extension": ".py",
   "mimetype": "text/x-python",
   "name": "python",
   "nbconvert_exporter": "python",
   "pygments_lexer": "ipython3",
   "version": "3.7.6"
  }
 },
 "nbformat": 4,
 "nbformat_minor": 4
}
